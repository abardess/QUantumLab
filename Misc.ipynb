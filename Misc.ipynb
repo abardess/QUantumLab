{
 "metadata": {
  "name": "",
  "signature": "sha256:172b4081b1e39158f2a77e69787cf9afc42cef3d96eaa0a101214bd6d218a5a6"
 },
 "nbformat": 3,
 "nbformat_minor": 0,
 "worksheets": [
  {
   "cells": [
    {
     "cell_type": "code",
     "collapsed": false,
     "input": [
      "%pylab inline\n",
      "import numpy as np\n",
      "import matplotlib.pyplot as plt\n",
      "from random import randint\n",
      "from mpl_toolkits.mplot3d.axes3d import Axes3D"
     ],
     "language": "python",
     "metadata": {},
     "outputs": [
      {
       "output_type": "stream",
       "stream": "stdout",
       "text": [
        "Populating the interactive namespace from numpy and matplotlib\n"
       ]
      }
     ],
     "prompt_number": 1
    },
    {
     "cell_type": "code",
     "collapsed": false,
     "input": [
      "import os\n",
      " \n",
      "def saveplot(path, ext='png', close=True, verbose=True):\n",
      "    \"\"\"Save a figure from pyplot.\n",
      "    Parameters\n",
      "    ----------\n",
      "    path : string\n",
      "    The path (and filename, without the extension) to save the\n",
      "    figure to.\n",
      "    ext : string (default='png')\n",
      "    The file extension. This must be supported by the active\n",
      "    matplotlib backend (see matplotlib.backends module). Most\n",
      "    backends support 'png', 'pdf', 'ps', 'eps', and 'svg'.\n",
      "    close : boolean (default=True)\n",
      "    Whether to close the figure after saving. If you want to save\n",
      "    the figure multiple times (e.g., to multiple formats), you\n",
      "    should NOT close it in between saves or you will have to\n",
      "    re-plot it.\n",
      "    verbose : boolean (default=True)\n",
      "    Whether to print information about when and where the image\n",
      "    has been saved.\n",
      "    \"\"\"\n",
      "    # Extract the directory and filename from the given path\n",
      "    directory = os.path.split(path)[0]\n",
      "    filename = \"%s.%s\" % (os.path.split(path)[1], ext)\n",
      "    if directory == '':\n",
      "        directory = '.'\n",
      "\n",
      "    # If the directory does not exist, create it\n",
      "    if not os.path.exists(directory):\n",
      "        os.makedirs(directory)\n",
      "\n",
      "    # The final path to save to\n",
      "    savepath = os.path.join(directory, filename)\n",
      "\n",
      "    if verbose:\n",
      "        print(\"Saving figure to '%s'...\" % savepath),\n",
      "\n",
      "    # Actually save the figure\n",
      "    plt.savefig(savepath)\n",
      "    # Close it\n",
      "    if close:\n",
      "        plt.close()\n",
      "\n",
      "    if verbose:\n",
      "        print(\"Done\") "
     ],
     "language": "python",
     "metadata": {},
     "outputs": [],
     "prompt_number": 2
    },
    {
     "cell_type": "code",
     "collapsed": false,
     "input": [
      "import math as math\n",
      "from pylab import *\n",
      "\n",
      "n = np.arange(0.0, 50.0, 1.0)\n",
      "probability = []\n",
      "for i in n:\n",
      "    probability.append(10000*(math.factorial(50.0)/(math.factorial(i)*(math.factorial(50.0 - i))))/(2**50))\n",
      "plt.plot(n, probability, '^')\n",
      "plt.xlabel('Number of Heads')\n",
      "plt.ylabel('Probability of Number (Multiplied by 10^3 for clarity)')\n",
      "\n",
      "saveplot(\"Probability\", ext = \"png\")\n",
      "plt.show()"
     ],
     "language": "python",
     "metadata": {},
     "outputs": [
      {
       "output_type": "stream",
       "stream": "stdout",
       "text": [
        "Saving figure to './Probability.png'... "
       ]
      },
      {
       "output_type": "stream",
       "stream": "stdout",
       "text": [
        "Done\n"
       ]
      }
     ],
     "prompt_number": 43
    },
    {
     "cell_type": "code",
     "collapsed": false,
     "input": [
      "Ref = lambda x: (2.0*x - 1.0 - 2.0*np.sqrt((x**2) - x))/(2*x - 1 + 2*np.sqrt((x**2) - x))\n",
      "Tran = lambda x: 4.0 * ((x - 1)**(3/2))/((2 * x**(3/2)) - np.sqrt(x) + 2 * np.sqrt((x**3) + (x**2)))\n",
      "\n",
      "\n",
      "V0_E = np.arange(.01, 1, .001)\n",
      "\n",
      "E_V0 = np.arange(1.0, 4, .001)\n",
      "\n",
      "R = Ref(E_V0)\n",
      "T = Tran(E_V0)\n",
      "plt.plot(E_V0, R, 'r', label = \"R\")\n",
      "plt.plot(E_V0, T, 'b', label = \"T\")\n",
      "plt.legend()\n",
      "plt.title(\"R and T as a function of $E/V_0$\")\n",
      "plt.show()"
     ],
     "language": "python",
     "metadata": {},
     "outputs": [
      {
       "metadata": {},
       "output_type": "display_data",
       "png": "[encoded data removed]",
       "text": [
        "<matplotlib.figure.Figure at 0x104dbe150>"
       ]
      }
     ],
     "prompt_number": 14
    },
    {
     "cell_type": "code",
     "collapsed": false,
     "input": [
      "h_bar = 1.054 * 10**-34\n",
      "\n",
      "Tran1 = lambda E_V0: ((4.0*E_V0*(1.0 - E_V0))/(np.sinh(2.0*np.sqrt(2.0*(1.0 - E_V0))*3.0) + (4.0*E_V0*(1.0 - E_V0))))\n",
      "Tran2 = lambda E_V0: (4.0*E_V0*(E_V0 - 1.0))/((np.sin(2.0*np.sqrt(2.0*(E_V0 - 1.0))*3.0) + (4.0*E_V0*(E_V0 - 1.0))))\n",
      "\n",
      "E_V01 = np.arange(0, 1, .01)\n",
      "E_V02 = np.arange(1, 3, .01)\n",
      "\n",
      "T1 = Tran1(E_V01)\n",
      "T2 = Tran2(E_V02)\n",
      "\n",
      "plt.plot(E_V01, T1, 'r')\n",
      "plt.plot(E_V02, T2, 'r')\n",
      "plt.show()"
     ],
     "language": "python",
     "metadata": {},
     "outputs": [
      {
       "metadata": {},
       "output_type": "display_data",
       "png": "[encoded data removed]",
       "text": [
        "<matplotlib.figure.Figure at 0x104e7da90>"
       ]
      }
     ],
     "prompt_number": 14
    },
    {
     "cell_type": "code",
     "collapsed": false,
     "input": [],
     "language": "python",
     "metadata": {},
     "outputs": []
    }
   ],
   "metadata": {}
  }
 ]
}