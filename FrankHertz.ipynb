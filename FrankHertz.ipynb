{
 "metadata": {
  "name": "",
  "signature": "sha256:c796bca6c664c2e04106e7b296ab02d5dab3a161ca389265a529b5fd7af397cb"
 },
 "nbformat": 3,
 "nbformat_minor": 0,
 "worksheets": [
  {
   "cells": [
    {
     "cell_type": "code",
     "collapsed": false,
     "input": [
      "%pylab inline\n",
      "import numpy as np\n",
      "import matplotlib.pyplot as plt\n",
      "from random import randint\n",
      "import scipy.optimize as optimization"
     ],
     "language": "python",
     "metadata": {},
     "outputs": [
      {
       "output_type": "stream",
       "stream": "stdout",
       "text": [
        "Populating the interactive namespace from numpy and matplotlib\n"
       ]
      }
     ],
     "prompt_number": 1
    },
    {
     "cell_type": "code",
     "collapsed": false,
     "input": [
      "def saveplot(path, ext='png', close=True, verbose=True):\n",
      "    import os\n",
      "    \"\"\"Save a figure from pyplot.\n",
      "    Parameters\n",
      "    ----------\n",
      "    path : string\n",
      "    The path (and filename, without the extension) to save the\n",
      "    figure to.\n",
      "    ext : string (default='png')\n",
      "    The file extension. This must be supported by the active\n",
      "    matplotlib backend (see matplotlib.backends module). Most\n",
      "    backends support 'png', 'pdf', 'ps', 'eps', and 'svg'.\n",
      "    close : boolean (default=True)\n",
      "    Whether to close the figure after saving. If you want to save\n",
      "    the figure multiple times (e.g., to multiple formats), you\n",
      "    should NOT close it in between saves or you will have to\n",
      "    re-plot it.\n",
      "    verbose : boolean (default=True)\n",
      "    Whether to print information about when and where the image\n",
      "    has been saved.\n",
      "    \"\"\"\n",
      "    # Extract the directory and filename from the given path\n",
      "    directory = os.path.split(path)[0]\n",
      "    filename = \"%s.%s\" % (os.path.split(path)[1], ext)\n",
      "    if directory == '':\n",
      "        directory = '.'\n",
      "\n",
      "    # If the directory does not exist, create it\n",
      "    if not os.path.exists(directory):\n",
      "        os.makedirs(directory)\n",
      "\n",
      "    # The final path to save to\n",
      "    savepath = os.path.join(directory, filename)\n",
      "\n",
      "    if verbose:\n",
      "        print(\"Saving figure to '%s'...\" % savepath),\n",
      "\n",
      "    # Actually save the figure\n",
      "    plt.savefig(savepath)\n",
      "    # Close it\n",
      "    if close:\n",
      "        plt.close()\n",
      "\n",
      "    if verbose:\n",
      "        print(\"Done\") \n",
      "\n",
      "\n",
      "def SEIR_cure_model(S0, L0, I0, R0, P0, D0, lamb, gamma, vac, cure, alpha, beta, t_f, t_i, t_step):\n",
      "    INPUT = (S0, L0, I0, R0, P0, D0)\n",
      "\n",
      "    def SIR(INP,t):  \n",
      "        '''The set of differential equations that describe the population dynamics during an outbreak of a disease.\n",
      "        In this model we take into account death and the possibility of vaccination and/or a medical cure.'''\n",
      "        Y=np.zeros((6))\n",
      "        V = INP    \n",
      "        Y[0] = ((- lamb * V[0] * V[2]) - vac*V[0])/N\n",
      "        Y[1] = ((lamb * V[0] * V[2]))/N - beta * V[1]\n",
      "        Y[2] = beta*V[1] - ((gamma + cure) * V[2]) - alpha*V[2]\n",
      "        Y[3] = (gamma + cure) * V[2]\n",
      "        Y[4] = (vac*V[0])/N\n",
      "        Y[5] = alpha*V[2]\n",
      "        return Y   # For odeint\n",
      "\n",
      "    t = np.arange(t_i, t_f+t_step, t_step)\n",
      "    RES = spi.odeint(SIR,INPUT,t)\n",
      "    return RES"
     ],
     "language": "python",
     "metadata": {},
     "outputs": [],
     "prompt_number": 6
    },
    {
     "cell_type": "code",
     "collapsed": false,
     "input": [
      "minima_152 = [7.818, 12.68, 17.66, 23.01, 28.27, 33.72, 39.13] #x-values of minima; i.e. the voltage (V)\n",
      "kappa = [1, 2, 3, 4, 5, 6, 7]\n",
      "\n",
      "uncer = .04\n",
      "\n",
      "b, a = np.polyfit(kappa, minima_152, 1)\n",
      "\n",
      "plt.plot(kappa, minima_152, '^')\n",
      "#saveplot('minimaspacing', 'png')\n",
      "plt.show()\n",
      "\n",
      "\n",
      "print a, b #V"
     ],
     "language": "python",
     "metadata": {},
     "outputs": [
      {
       "metadata": {},
       "output_type": "display_data",
       "png": "[encoded data removed]",
       "text": [
        "<matplotlib.figure.Figure at 0x105984e90>"
       ]
      },
      {
       "output_type": "stream",
       "stream": "stdout",
       "text": [
        "2.23742857143 5.23664285714\n"
       ]
      }
     ],
     "prompt_number": 8
    },
    {
     "cell_type": "code",
     "collapsed": false,
     "input": [
      "minima_170 = [8.00, 12.52, 17.33, 22.22, 27.02, 27.02, 32.15, 37.02]\n",
      "gamma = [1, 2, 3, 4, 5, 6, 7, 8]\n",
      "d, c = np.polyfit(gamma, minima_170, 1)\n",
      "\n",
      "plt.plot(gamma, minima_170, '^')\n",
      "plt.show()\n",
      "\n",
      "print d, c"
     ],
     "language": "python",
     "metadata": {},
     "outputs": [
      {
       "metadata": {},
       "output_type": "display_data",
       "png": "[encoded data removed]",
       "text": [
        "<matplotlib.figure.Figure at 0x105985750>"
       ]
      },
      {
       "output_type": "stream",
       "stream": "stdout",
       "text": [
        "3.99 4.955\n"
       ]
      }
     ],
     "prompt_number": 3
    },
    {
     "cell_type": "code",
     "collapsed": false,
     "input": [
      "T = 443 #K\n",
      "P = 8.7*10**(9-(3110/T))\n",
      "#k = 8.61*10**-5 #eV/K\n",
      "k = 1.38 * 10**-23 #J/K\n",
      "\n",
      "N_V = P/(T*k)\n",
      "R = 0.18 * 10**-9 #m\n",
      "\n",
      "L = .009 #m\n",
      "lam = 1/(np.sqrt(2)*np.pi*(N_V)*(R**2))\n",
      "\n",
      "E_n = []\n",
      "for n in range(7):\n",
      "    E_n.append(n*(1 + (lam/L)*(2*n -1)))\n",
      "\n",
      "\n",
      "E_exc2, off2 = np.polyfit(E_n, minima_152, 1)\n",
      "print \"Excitation Energy:\", E_exc2\n",
      "print \"Offset:\", off2\n",
      "\n",
      "print\n",
      "\n",
      "E_exc, off = np.polyfit(E_n[:4], minima_170[:4], 1)\n",
      "print \"Excitation Energy:\", E_exc\n",
      "print \"Offset:\", off"
     ],
     "language": "python",
     "metadata": {},
     "outputs": [
      {
       "output_type": "stream",
       "stream": "stdout",
       "text": [
        "Excitation Energy: 4.94194138599\n",
        "Offset: 7.74167085225\n",
        "\n",
        "Excitation Energy: 4.62201142223\n",
        "Offset: 7.94660172404\n"
       ]
      }
     ],
     "prompt_number": 4
    },
    {
     "cell_type": "code",
     "collapsed": false,
     "input": [],
     "language": "python",
     "metadata": {},
     "outputs": []
    }
   ],
   "metadata": {}
  }
 ]
}