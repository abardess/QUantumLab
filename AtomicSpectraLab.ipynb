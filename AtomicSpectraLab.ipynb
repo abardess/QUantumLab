{
 "metadata": {
  "name": "",
  "signature": "sha256:0cbe4e785e3b637f55e0ecb6ecfcce6e7c2f6d955690dfb315e728eb7f331698"
 },
 "nbformat": 3,
 "nbformat_minor": 0,
 "worksheets": [
  {
   "cells": [
    {
     "cell_type": "code",
     "collapsed": false,
     "input": [
      "%pylab inline\n",
      "import numpy as np\n",
      "import matplotlib.pyplot as plt\n",
      "n = [2.0, 3.0, 4.0, 5.0]\n",
      "q = [0.0, 7.199999999999999, 5.333333333333333, 4.761904761904762]\n",
      "wavelength = [0.0, 635.29, 513.074, 392.1279]\n",
      "\n",
      "m, b = numpy.polyfit(wavelength, q, 1)\n",
      "print m, b\n",
      "\n",
      "y = []\n",
      "for i in wavelength:\n",
      "    y.append(m*i + b)"
     ],
     "language": "python",
     "metadata": {},
     "outputs": [
      {
       "output_type": "stream",
       "stream": "stdout",
       "text": [
        "Populating the interactive namespace from numpy and matplotlib\n",
        "0.0110721580994 0.0596670569126\n"
       ]
      },
      {
       "output_type": "stream",
       "stream": "stderr",
       "text": [
        "WARNING: pylab import has clobbered these variables: ['e']\n",
        "`%matplotlib` prevents importing * from pylab and numpy\n"
       ]
      }
     ],
     "prompt_number": 79
    },
    {
     "cell_type": "code",
     "collapsed": false,
     "input": [
      "plt.plot(wavelength, q, 'o')\n",
      "plt.plot(wavelength, y, 'r')\n",
      "plt.xlim(0, 650)\n",
      "plt.ylim(0, 8)\n",
      "plt.xlabel('Wavelength (nm)')\n",
      "plt.ylabel('q')\n",
      "plt.show()"
     ],
     "language": "python",
     "metadata": {},
     "outputs": [
      {
       "metadata": {},
       "output_type": "display_data",
       "png": "[encoded data removed]",
       "text": [
        "<matplotlib.figure.Figure at 0x105243590>"
       ]
      }
     ],
     "prompt_number": 80
    },
    {
     "cell_type": "code",
     "collapsed": false,
     "input": [
      "h = 4.135667516 * 10 ** -15\n",
      "c = 3*10**8\n",
      "Er = ((h * c) * m )* 10 ** 9\n",
      "print Er "
     ],
     "language": "python",
     "metadata": {},
     "outputs": [
      {
       "output_type": "stream",
       "stream": "stdout",
       "text": [
        "13.7372293751\n"
       ]
      }
     ],
     "prompt_number": 81
    },
    {
     "cell_type": "code",
     "collapsed": false,
     "input": [
      "em = 1.99 * 10**11\n",
      "e = 1.9 * 10** -19 \n",
      "euncer = 1.9 * 10** -19\n",
      "emuncer = 0.06 * 10**11 # C/kg\n",
      "mass = e/em\n",
      "print mass #kg"
     ],
     "language": "python",
     "metadata": {},
     "outputs": [
      {
       "output_type": "stream",
       "stream": "stdout",
       "text": [
        "9.54773869347e-31\n"
       ]
      }
     ],
     "prompt_number": 108
    },
    {
     "cell_type": "code",
     "collapsed": false,
     "input": [
      "epsilon = 8.854187817 * 10 ** -12 #C^2/Nm^2\n",
      "hbar = np.sqrt((mass * (e **4)) / (((4 * epsilon * np.pi) ** 2) * (Er * (1.602176565 * 10 ** -19)) * 2))\n",
      "h = hbar * 2 * np.pi\n",
      "print h"
     ],
     "language": "python",
     "metadata": {},
     "outputs": [
      {
       "output_type": "stream",
       "stream": "stdout",
       "text": [
        "9.49421316121e-34\n"
       ]
      }
     ],
     "prompt_number": 109
    },
    {
     "cell_type": "code",
     "collapsed": false,
     "input": [
      "ErDiff = (((Er - 13.60)/Er) * 100)\n",
      "print ErDiff"
     ],
     "language": "python",
     "metadata": {},
     "outputs": [
      {
       "output_type": "stream",
       "stream": "stdout",
       "text": [
        "0.998959625107\n"
       ]
      }
     ],
     "prompt_number": 117
    },
    {
     "cell_type": "code",
     "collapsed": false,
     "input": [
      "muncer = sqrt(((emuncer/em)**2))\n",
      "uncerh = sqrt(((euncer/e)**2) + ((muncer/mass) **2) + ((ErDiff/Er)**2)) * h * 10**-29\n",
      "print muncer\n",
      "print uncerh"
     ],
     "language": "python",
     "metadata": {},
     "outputs": [
      {
       "output_type": "stream",
       "stream": "stdout",
       "text": [
        "0.0301507537688\n",
        "2.99817257722e-34\n"
       ]
      }
     ],
     "prompt_number": 121
    },
    {
     "cell_type": "code",
     "collapsed": false,
     "input": [],
     "language": "python",
     "metadata": {},
     "outputs": []
    }
   ],
   "metadata": {}
  }
 ]
}