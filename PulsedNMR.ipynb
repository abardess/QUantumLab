{
 "metadata": {
  "name": "",
  "signature": "sha256:1d8beb0c93e1a7ad2c3802dad9b7d3b9f95b62e72d7bfa8a3fa62b6d98267216"
 },
 "nbformat": 3,
 "nbformat_minor": 0,
 "worksheets": [
  {
   "cells": [
    {
     "cell_type": "code",
     "collapsed": false,
     "input": [
      "%pylab inline\n",
      "import numpy as np\n",
      "import matplotlib.pyplot as plt\n",
      "from random import randint\n",
      "import scipy.optimize as optimization"
     ],
     "language": "python",
     "metadata": {},
     "outputs": [
      {
       "output_type": "stream",
       "stream": "stdout",
       "text": [
        "Populating the interactive namespace from numpy and matplotlib\n"
       ]
      }
     ],
     "prompt_number": 1
    },
    {
     "cell_type": "code",
     "collapsed": false,
     "input": [
      "B1 = 12 * 10**-4 #Tesla\n",
      "theta = np.pi/2\n",
      "g = 5.586\n",
      "mu = 5.051 * 10**-27 #J/T\n",
      "h = 6.6260695729*10**-34 #Js\n",
      "\n",
      "freq = 15.4 #MHz"
     ],
     "language": "python",
     "metadata": {},
     "outputs": [],
     "prompt_number": 12
    },
    {
     "cell_type": "code",
     "collapsed": false,
     "input": [
      "tw = (theta*h)/(2*np.pi*g*mu*B1)"
     ],
     "language": "python",
     "metadata": {},
     "outputs": [],
     "prompt_number": 13
    },
    {
     "cell_type": "code",
     "collapsed": false,
     "input": [
      "print tw"
     ],
     "language": "python",
     "metadata": {},
     "outputs": [
      {
       "output_type": "stream",
       "stream": "stdout",
       "text": [
        "4.89256331222e-06\n"
       ]
      }
     ],
     "prompt_number": 14
    },
    {
     "cell_type": "code",
     "collapsed": false,
     "input": [
      "tw_measured = 4.78 * 10**-6\n",
      "print tw_measured"
     ],
     "language": "python",
     "metadata": {},
     "outputs": [
      {
       "output_type": "stream",
       "stream": "stdout",
       "text": [
        "4.78e-06\n"
       ]
      }
     ],
     "prompt_number": 24
    },
    {
     "cell_type": "markdown",
     "metadata": {},
     "source": [
      "As the A pulse width is adjusted from its minimum to its maximum, the FID signal grows and shrinks multiple times. When the FID signal is at a maximum, this means that the A pulse width is such that the sample has become perfeclty aligned with the x-y plane."
     ]
    },
    {
     "cell_type": "code",
     "collapsed": false,
     "input": [
      "FID_i_star = 11.38 #V +/- .5\n",
      "T2_star_height = FID_i_star/np.e\n",
      "print T2_star_height, 'Volts'"
     ],
     "language": "python",
     "metadata": {},
     "outputs": [
      {
       "output_type": "stream",
       "stream": "stdout",
       "text": [
        "4.18646804053 Volts\n"
       ]
      }
     ],
     "prompt_number": 16
    },
    {
     "cell_type": "markdown",
     "metadata": {},
     "source": [
      "Measured value of $T{_{2}}^*$: 69 +/- 3 microseconds"
     ]
    },
    {
     "cell_type": "markdown",
     "metadata": {},
     "source": [
      "Measured value of $T_{2}$ for Mineral Oil: 28 +/- 2 milliseconds"
     ]
    },
    {
     "cell_type": "code",
     "collapsed": false,
     "input": [
      "FID_i_g = 11.75\n",
      "T2_height_g = FID_i_g/np.e\n",
      "print T2_height_g, \"Volts\""
     ],
     "language": "python",
     "metadata": {},
     "outputs": [
      {
       "output_type": "stream",
       "stream": "stdout",
       "text": [
        "4.32258343376 Volts\n"
       ]
      }
     ],
     "prompt_number": 39
    },
    {
     "cell_type": "markdown",
     "metadata": {},
     "source": [
      "Measured value of $T_{2}$ for Glycerin: 147 +/- 7 milliseconds (WRONG)"
     ]
    },
    {
     "cell_type": "markdown",
     "metadata": {},
     "source": [
      "Measured value of $T_{2}$ for Water with CuSO: 11 +/- 3 milliseconds (WRONG)"
     ]
    },
    {
     "cell_type": "code",
     "collapsed": false,
     "input": [
      "M0 = -1\n",
      "T1 = 5\n",
      "\n",
      "t = np.arange(0, 50, 1.0)\n",
      "\n",
      "Mz = lambda t: M0*(1.0 - 2.0*np.e**(-t/T1))\n",
      "\n",
      "M = Mz(t)\n",
      "\n",
      "plt.plot(t, M)\n",
      "plt.show()"
     ],
     "language": "python",
     "metadata": {},
     "outputs": [
      {
       "metadata": {},
       "output_type": "display_data",
       "png": "[encoded data removed]",
       "text": [
        "<matplotlib.figure.Figure at 0x105b59b90>"
       ]
      }
     ],
     "prompt_number": 38
    },
    {
     "cell_type": "markdown",
     "metadata": {},
     "source": [
      "At M = 0, $t_0 = ln(2)T1$"
     ]
    },
    {
     "cell_type": "markdown",
     "metadata": {},
     "source": [
      "Measured Value of T1 22ms +/- 1"
     ]
    },
    {
     "cell_type": "code",
     "collapsed": false,
     "input": [],
     "language": "python",
     "metadata": {},
     "outputs": []
    }
   ],
   "metadata": {}
  }
 ]
}