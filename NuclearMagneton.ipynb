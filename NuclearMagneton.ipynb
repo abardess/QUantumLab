{
 "metadata": {
  "name": "",
  "signature": "sha256:9d3c03e769bab16d0c807360cad7afdf1013bce60294a952af5292bd862fb245"
 },
 "nbformat": 3,
 "nbformat_minor": 0,
 "worksheets": [
  {
   "cells": [
    {
     "cell_type": "code",
     "collapsed": false,
     "input": [
      "%pylab inline\n",
      "import numpy as np\n",
      "import matplotlib.pyplot as plt\n",
      "from random import randint\n",
      "import scipy.optimize as optimization"
     ],
     "language": "python",
     "metadata": {},
     "outputs": [
      {
       "output_type": "stream",
       "stream": "stdout",
       "text": [
        "Populating the interactive namespace from numpy and matplotlib\n"
       ]
      }
     ],
     "prompt_number": 1
    },
    {
     "cell_type": "code",
     "collapsed": false,
     "input": [
      "def saveplot(path, ext='png', close=True, verbose=True):\n",
      "    import os\n",
      "    \"\"\"Save a figure from pyplot.\n",
      "    Parameters\n",
      "    ----------\n",
      "    path : string\n",
      "    The path (and filename, without the extension) to save the\n",
      "    figure to.\n",
      "    ext : string (default='png')\n",
      "    The file extension. This must be supported by the active\n",
      "    matplotlib backend (see matplotlib.backends module). Most\n",
      "    backends support 'png', 'pdf', 'ps', 'eps', and 'svg'.\n",
      "    close : boolean (default=True)\n",
      "    Whether to close the figure after saving. If you want to save\n",
      "    the figure multiple times (e.g., to multiple formats), you\n",
      "    should NOT close it in between saves or you will have to\n",
      "    re-plot it.\n",
      "    verbose : boolean (default=True)\n",
      "    Whether to print information about when and where the image\n",
      "    has been saved.\n",
      "    \"\"\"\n",
      "    # Extract the directory and filename from the given path\n",
      "    directory = os.path.split(path)[0]\n",
      "    filename = \"%s.%s\" % (os.path.split(path)[1], ext)\n",
      "    if directory == '':\n",
      "        directory = '.'\n",
      "\n",
      "    # If the directory does not exist, create it\n",
      "    if not os.path.exists(directory):\n",
      "        os.makedirs(directory)\n",
      "\n",
      "    # The final path to save to\n",
      "    savepath = os.path.join(directory, filename)\n",
      "\n",
      "    if verbose:\n",
      "        print(\"Saving figure to '%s'...\" % savepath),\n",
      "\n",
      "    # Actually save the figure\n",
      "    plt.savefig(savepath)\n",
      "    # Close it\n",
      "    if close:\n",
      "        plt.close()\n",
      "\n",
      "    if verbose:\n",
      "        print(\"Done\") "
     ],
     "language": "python",
     "metadata": {},
     "outputs": [],
     "prompt_number": 2
    },
    {
     "cell_type": "code",
     "collapsed": false,
     "input": [
      "current = [0.0, 0.5, 1.0, 1.5, 2.0, 2.5, 3.0, 3.5, 4.0, 4.5, 5.0] #A\n",
      "B = [69.0, 641.0, 1252.0, 1930.0, 2564.0, 3210.0, 3800.0, 4261.0, 4573.0, 4829.0, 5014.0] #Gauss\n",
      "\n",
      "t, q, m, b = pylab.polyfit(current, B, 3)\n",
      "print q/10000, m/10000, b/10000, t/10000\n",
      "\n",
      "b_fit = []\n",
      "for i in range(11):\n",
      "    b_fit.append(b + current[i]*m + (current[i]**2)*q + (current[i]**3)*t)\n",
      "\n",
      "plt.plot(current, B, 'o')\n",
      "plt.plot(current, b_fit)"
     ],
     "language": "python",
     "metadata": {},
     "outputs": [
      {
       "output_type": "stream",
       "stream": "stdout",
       "text": [
        "0.0133382284382 0.112394638695 0.00539440559441 -0.00322564102564\n"
       ]
      },
      {
       "metadata": {},
       "output_type": "pyout",
       "prompt_number": 18,
       "text": [
        "[<matplotlib.lines.Line2D at 0x105b09450>]"
       ]
      },
      {
       "metadata": {},
       "output_type": "display_data",
       "png": "[encoded data removed]",
       "text": [
        "<matplotlib.figure.Figure at 0x105b09350>"
       ]
      }
     ],
     "prompt_number": 18
    },
    {
     "cell_type": "code",
     "collapsed": false,
     "input": [
      "current = [2.90, 3.0, 3.1, 3.2, 3.3, 3.4, 3.5, 3.56]\n",
      "frequency = [16.42, 17.01, 17.43, 18.13, 18.37, 18.71, 19.07, 19.20]\n",
      "\n",
      "B = []\n",
      "for i in current:\n",
      "    B.append(b + i*m + (i**2)*q + (i**3)*t)\n",
      "\n",
      "mu = 5.05*10**-27 #J/T\n",
      "h = 6.626 * 10**-34 #Js\n",
      "\n",
      "gmuh, v = pylab.polyfit(B, frequency, 1)\n",
      "print \"g:\", gmuh*h/mu * 10**10"
     ],
     "language": "python",
     "metadata": {},
     "outputs": [
      {
       "output_type": "stream",
       "stream": "stdout",
       "text": [
        "g: 5.66960373293\n"
       ]
      }
     ],
     "prompt_number": 24
    },
    {
     "cell_type": "code",
     "collapsed": false,
     "input": [
      "time = [0, 1.710-1.59, 1.710-1.51, 1.710-1.43, 1.710-1.36, 1.710-1.296, 1.710-1.244, 1.710-1.190] #ms\n",
      "amplitude = [3.01, 2.16, 1.95, 1.35, 1.30, 0.825, 0.813, 0.450] #V\n",
      "\n",
      "lnamp = []\n",
      "for i in amplitude:\n",
      "    lnamp.append(np.log(i))\n",
      "\n",
      "s, i = pylab.polyfit(time, lnamp, 1)\n",
      "plt.plot(time, lnamp, 'o')\n",
      "plt.show()\n",
      "print s"
     ],
     "language": "python",
     "metadata": {},
     "outputs": [
      {
       "metadata": {},
       "output_type": "display_data",
       "png": "[encoded data removed]",
       "text": [
        "<matplotlib.figure.Figure at 0x105b7d090>"
       ]
      },
      {
       "output_type": "stream",
       "stream": "stdout",
       "text": [
        "-3.34435708372\n"
       ]
      }
     ],
     "prompt_number": 27
    },
    {
     "cell_type": "code",
     "collapsed": false,
     "input": [
      "#flourine\n",
      "current_f = [3.20, 3.30, 3.40, 3.50, 3.60, 3.70, 3.80, 3.90, 4.03]\n",
      "frequency_f = [16.99, 17.26, 17.54, 17.84, 18.17, 18.45, 18.77, 19.03, 19.31]\n",
      "\n",
      "B_f = []\n",
      "for i in current_f:\n",
      "    B_f.append(b + i*m + (i**2)*q + (i**3)*t)\n",
      "\n",
      "mu = 5.05*10**-27 #J/T\n",
      "h = 6.626 * 10**-34 #Js\n",
      "\n",
      "gmuh_f, v_f = pylab.polyfit(B_f, frequency_f, 1)\n",
      "print \"g:\", gmuh_f*h/mu * 10**10"
     ],
     "language": "python",
     "metadata": {},
     "outputs": [
      {
       "output_type": "stream",
       "stream": "stdout",
       "text": [
        "g: 4.59311846591\n"
       ]
      }
     ],
     "prompt_number": 25
    },
    {
     "cell_type": "code",
     "collapsed": false,
     "input": [
      "time_t = [-3.4, 3.6]\n",
      "frequency_t = [17.23, 17.278]\n",
      "\n",
      "b, a = pylab.polyfit(time_t, frequency_t, 1)\n",
      "print \"slope:\", b\n",
      "print \"intercept:\", a"
     ],
     "language": "python",
     "metadata": {},
     "outputs": [
      {
       "output_type": "stream",
       "stream": "stdout",
       "text": [
        "slope: 0.00685714285714\n",
        "intercept: 17.2533142857\n"
       ]
      }
     ],
     "prompt_number": 22
    },
    {
     "cell_type": "code",
     "collapsed": false,
     "input": [
      "width = b*(14.4 - 12.6)\n",
      "print width"
     ],
     "language": "python",
     "metadata": {},
     "outputs": [
      {
       "output_type": "stream",
       "stream": "stdout",
       "text": [
        "0.0123428571429\n"
       ]
      }
     ],
     "prompt_number": 23
    },
    {
     "cell_type": "code",
     "collapsed": false,
     "input": [],
     "language": "python",
     "metadata": {},
     "outputs": []
    }
   ],
   "metadata": {}
  }
 ]
}