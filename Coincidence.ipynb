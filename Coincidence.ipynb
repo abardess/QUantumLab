{
 "cells": [
  {
   "cell_type": "code",
   "execution_count": 2,
   "metadata": {
    "collapsed": false
   },
   "outputs": [
    {
     "name": "stdout",
     "output_type": "stream",
     "text": [
      "Populating the interactive namespace from numpy and matplotlib\n"
     ]
    }
   ],
   "source": [
    "%pylab inline\n",
    "import numpy as np\n",
    "import matplotlib.pyplot as plt\n",
    "from random import randint\n",
    "from numpy import genfromtxt\n",
    "import scipy.optimize as optimization\n",
    "from scipy.optimize import curve_fit"
   ]
  },
  {
   "cell_type": "code",
   "execution_count": 18,
   "metadata": {
    "collapsed": false
   },
   "outputs": [],
   "source": [
    "angle = [-20, -15, -10, -5, -4, -3, -2, -1, 0, 1, 2, 3, 4, 5, 10, 15, 20] #degrees with uncertainty of \n",
    "counts = [30, 27, 295, 1923, 2467, 2754, 3207, 3535, 3633, 3643, 3518, 3150, 2844, 2645, 826, 39, 29] #with uncertainty (N)^(1/2)\n",
    "\n",
    "a_err = .5\n",
    "c_err = np.sqrt(counts)"
   ]
  },
  {
   "cell_type": "code",
   "execution_count": 21,
   "metadata": {
    "collapsed": false
   },
   "outputs": [
    {
     "data": {
      "image/png": "[encoded data removed]",
      "text/plain": [
       "<matplotlib.figure.Figure at 0x106dd9fd0>"
      ]
     },
     "metadata": {},
     "output_type": "display_data"
    }
   ],
   "source": [
    "plt.errorbar(angle, counts, yerr = c_err, linewidth = 0, marker = 'o', markersize = 2.5, ecolor = 'r')\n",
    "plt.show()"
   ]
  },
  {
   "cell_type": "code",
   "execution_count": 40,
   "metadata": {
    "collapsed": false
   },
   "outputs": [],
   "source": [
    "radii_of_detector = 55.6/2 #mm\n",
    "radius_between_detectors = 255.0 #mm\n",
    "\n",
    "r = radii_of_detector\n",
    "R = radius_between_detectors\n",
    "\n",
    "alpha = []\n",
    "for i in angle[0:9]:\n",
    "    alpha.append(-i * (np.pi/180))\n",
    "for i in angle[9: 18]:\n",
    "    alpha.append(i * (np.pi/180))"
   ]
  },
  {
   "cell_type": "code",
   "execution_count": 41,
   "metadata": {
    "collapsed": false
   },
   "outputs": [
    {
     "name": "stdout",
     "output_type": "stream",
     "text": [
      "[ 185.62481948  136.65408814   89.92676016   44.6192184    35.66267409\n",
      "   26.72796743   17.80959244    8.90208311    0.            8.90208311\n",
      "   17.80959244   26.72796743   35.66267409   44.6192184    89.92676016\n",
      "  136.65408814  185.62481948]\n"
     ]
    }
   ],
   "source": [
    "x = 2*R*np.tan(alpha)\n",
    "print x"
   ]
  },
  {
   "cell_type": "code",
   "execution_count": 43,
   "metadata": {
    "collapsed": false
   },
   "outputs": [
    {
     "name": "stdout",
     "output_type": "stream",
     "text": [
      "[ 2.39653872  2.59906515  2.78708524  2.96639133  3.0016248   3.03672905\n",
      "  3.07173691  3.10668075  3.14159265  3.10668075  3.07173691  3.03672905\n",
      "  3.0016248   2.96639133  2.78708524  2.59906515  2.39653872]\n"
     ]
    }
   ],
   "source": [
    "theta = 2 * np.arccos((x/2)/R)\n",
    "print theta"
   ]
  },
  {
   "cell_type": "code",
   "execution_count": 44,
   "metadata": {
    "collapsed": false
   },
   "outputs": [
    {
     "name": "stdout",
     "output_type": "stream",
     "text": [
      "[ 1851.46297437  2008.14520533  2153.62382487  2292.37157191  2319.63620154\n",
      "  2346.80101134  2373.89135611  2400.9322466   2427.9484664   2400.9322466\n",
      "  2373.89135611  2346.80101134  2319.63620154  2292.37157191  2153.62382487\n",
      "  2008.14520533  1851.46297437]\n"
     ]
    }
   ],
   "source": [
    "Area = (r**2)*theta - np.sin(theta)\n",
    "print Area"
   ]
  },
  {
   "cell_type": "code",
   "execution_count": 48,
   "metadata": {
    "collapsed": false
   },
   "outputs": [
    {
     "data": {
      "image/png": "[encoded data removed]",
      "text/plain": [
       "<matplotlib.figure.Figure at 0x1065c9650>"
      ]
     },
     "metadata": {},
     "output_type": "display_data"
    }
   ],
   "source": [
    "plt.plot(angle, Area, 'o')\n",
    "plt.show()"
   ]
  },
  {
   "cell_type": "code",
   "execution_count": null,
   "metadata": {
    "collapsed": true
   },
   "outputs": [],
   "source": [
    "np.tan(alpha) = (x/(2*R))\n",
    "cos(theta/2) = (x/2)/R\n",
    "Area_between = (r**2)*theta - np.sin(theta)"
   ]
  }
 ],
 "metadata": {
  "kernelspec": {
   "display_name": "Python 2",
   "language": "python",
   "name": "python2"
  },
  "language_info": {
   "codemirror_mode": {
    "name": "ipython",
    "version": 2
   },
   "file_extension": ".py",
   "mimetype": "text/x-python",
   "name": "python",
   "nbconvert_exporter": "python",
   "pygments_lexer": "ipython2",
   "version": "2.7.9"
  }
 },
 "nbformat": 4,
 "nbformat_minor": 0
}
