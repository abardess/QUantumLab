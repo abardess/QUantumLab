{
 "metadata": {
  "name": "",
  "signature": "sha256:96de5c0c26d09a7ad834a905831d303febd4f0643711f89003599fa8b1422b48"
 },
 "nbformat": 3,
 "nbformat_minor": 0,
 "worksheets": [
  {
   "cells": [
    {
     "cell_type": "code",
     "collapsed": false,
     "input": [
      "%pylab inline\n",
      "import numpy as np\n",
      "import matplotlib.pyplot as plt\n",
      "\n",
      "peak = [122.1, 136, 661.7, 511, 1275, 1173.2]\n",
      "channel = [59.57, 83.24, 415.7, 324.16, 784.63, 820.07]\n",
      "\n",
      "a, b, c = np.polyfit(channel,peak, 2)\n",
      "print a, b, c\n",
      "\n",
      "fit = []\n",
      "for i in channel:\n",
      "    fit.append((a * (i**2)) + (b * i) + c)\n",
      "\n",
      "print fit"
     ],
     "language": "python",
     "metadata": {},
     "outputs": [
      {
       "output_type": "stream",
       "stream": "stdout",
       "text": [
        "Populating the interactive namespace from numpy and matplotlib\n",
        "-0.000161741224259"
       ]
      },
      {
       "output_type": "stream",
       "stream": "stdout",
       "text": [
        " 1.63675500792 10.4622351222\n",
        "[107.38977847799558, 145.58503360104288, 662.9113586629943, 524.03701826176859, 1195.1342644040315, 1243.942546592167]\n"
       ]
      }
     ],
     "prompt_number": 1
    },
    {
     "cell_type": "code",
     "collapsed": false,
     "input": [
      "plt.plot(channel, peak, 'o')\n",
      "plt.plot(fit, peak, 'g^')\n",
      "plt.show()"
     ],
     "language": "python",
     "metadata": {},
     "outputs": [
      {
       "metadata": {},
       "output_type": "display_data",
       "png": "[encoded data removed]",
       "text": [
        "<matplotlib.figure.Figure at 0x10264d250>"
       ]
      }
     ],
     "prompt_number": 2
    },
    {
     "cell_type": "code",
     "collapsed": false,
     "input": [
      "Cs_c = 415.7\n",
      "Cs_e = (a * (Cs_c **2)) + (b * Cs_c) + c\n",
      "print Cs_e"
     ],
     "language": "python",
     "metadata": {},
     "outputs": [
      {
       "output_type": "stream",
       "stream": "stdout",
       "text": [
        "662.911358663\n"
       ]
      }
     ],
     "prompt_number": 3
    },
    {
     "cell_type": "code",
     "collapsed": false,
     "input": [
      "compt = [291, 367]\n",
      "compt_e = []\n",
      "for i in compt:\n",
      "    compt_e.append((a * (i **2)) + (b * i) + c)\n",
      "print compt_e"
     ],
     "language": "python",
     "metadata": {},
     "outputs": [
      {
       "output_type": "stream",
       "stream": "stdout",
       "text": [
        "[473.06153381610727, 589.36655927545905]\n"
       ]
      }
     ],
     "prompt_number": 4
    },
    {
     "cell_type": "code",
     "collapsed": false,
     "input": [
      "sp00ky_mystery_peak = 136\n",
      "sp00ky_energy = (a * (sp00ky_mystery_peak **2)) + (b * sp00ky_mystery_peak) + c\n",
      "print sp00ky_energy"
     ],
     "language": "python",
     "metadata": {},
     "outputs": [
      {
       "output_type": "stream",
       "stream": "stdout",
       "text": [
        "230.069350516\n"
       ]
      }
     ],
     "prompt_number": 5
    },
    {
     "cell_type": "code",
     "collapsed": false,
     "input": [
      "R = [0.03788423757 ,0.005928627451]\n",
      "E = [661.7, 1275]\n",
      "\n",
      "plt.plot()"
     ],
     "language": "python",
     "metadata": {},
     "outputs": []
    }
   ],
   "metadata": {}
  }
 ]
}