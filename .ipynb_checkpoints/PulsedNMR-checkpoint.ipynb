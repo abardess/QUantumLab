{
 "cells": [
  {
   "cell_type": "code",
   "execution_count": 1,
   "metadata": {
    "collapsed": false
   },
   "outputs": [
    {
     "name": "stdout",
     "output_type": "stream",
     "text": [
      "Populating the interactive namespace from numpy and matplotlib\n"
     ]
    }
   ],
   "source": [
    "%pylab inline\n",
    "import numpy as np\n",
    "import matplotlib.pyplot as plt\n",
    "from random import randint\n",
    "import scipy.optimize as optimization"
   ]
  },
  {
   "cell_type": "code",
   "execution_count": 2,
   "metadata": {
    "collapsed": false
   },
   "outputs": [],
   "source": [
    "B1 = 12 * 10**-4 #Tesla\n",
    "theta = np.pi/2\n",
    "g = 5.586\n",
    "mu = 5.051 * 10**-27 #J/T\n",
    "h = 6.6260695729*10**-34 #Js\n",
    "\n",
    "freq = 15.4 #MHz"
   ]
  },
  {
   "cell_type": "code",
   "execution_count": 3,
   "metadata": {
    "collapsed": false
   },
   "outputs": [],
   "source": [
    "tw = (theta*h)/(2*np.pi*g*mu*B1)"
   ]
  },
  {
   "cell_type": "code",
   "execution_count": 4,
   "metadata": {
    "collapsed": false
   },
   "outputs": [
    {
     "name": "stdout",
     "output_type": "stream",
     "text": [
      "4.89256331222e-06\n"
     ]
    }
   ],
   "source": [
    "print tw"
   ]
  },
  {
   "cell_type": "code",
   "execution_count": 5,
   "metadata": {
    "collapsed": false
   },
   "outputs": [
    {
     "name": "stdout",
     "output_type": "stream",
     "text": [
      "4.78e-06\n"
     ]
    }
   ],
   "source": [
    "tw_measured = 4.78 * 10**-6\n",
    "print tw_measured"
   ]
  },
  {
   "cell_type": "markdown",
   "metadata": {},
   "source": [
    "As the A pulse width is adjusted from its minimum to its maximum, the FID signal grows and shrinks multiple times. When the FID signal is at a maximum, this means that the A pulse width is such that the sample has become perfeclty aligned with the x-y plane."
   ]
  },
  {
   "cell_type": "code",
   "execution_count": 8,
   "metadata": {
    "collapsed": false
   },
   "outputs": [
    {
     "name": "stdout",
     "output_type": "stream",
     "text": [
      "4.18646804053 Volts\n"
     ]
    }
   ],
   "source": [
    "FID_i_star = 11.38 #V +/- .5\n",
    "T2_star_height = FID_i_star/np.e\n",
    "print T2_star_height, 'Volts'"
   ]
  },
  {
   "cell_type": "markdown",
   "metadata": {},
   "source": [
    "Measured value of $T{_{2}}^*$ for Mineral Oil: 141 +/- 3 microseconds"
   ]
  },
  {
   "cell_type": "markdown",
   "metadata": {},
   "source": [
    "Measured value of $T_{2}$ for Mineral Oil: 36 +/- 2 milliseconds"
   ]
  },
  {
   "cell_type": "code",
   "execution_count": 7,
   "metadata": {
    "collapsed": false
   },
   "outputs": [
    {
     "name": "stdout",
     "output_type": "stream",
     "text": [
      "4.32258343376 Volts\n"
     ]
    }
   ],
   "source": [
    "FID_i_g = 11.75\n",
    "T2_height_g = FID_i_g/np.e\n",
    "print T2_height_g, \"Volts\""
   ]
  },
  {
   "cell_type": "code",
   "execution_count": 9,
   "metadata": {
    "collapsed": false
   },
   "outputs": [
    {
     "data": {
      "image/png": "[encoded data removed]",
      "text/plain": [
       "<matplotlib.figure.Figure at 0x1061af690>"
      ]
     },
     "metadata": {},
     "output_type": "display_data"
    }
   ],
   "source": [
    "M0 = -1\n",
    "T1 = 5\n",
    "\n",
    "t = np.arange(0, 50, 1.0)\n",
    "\n",
    "Mz = lambda t: M0*(1.0 - 2.0*np.e**(-t/T1))\n",
    "\n",
    "M = Mz(t)\n",
    "\n",
    "plt.plot(t, M)\n",
    "plt.show()"
   ]
  },
  {
   "cell_type": "markdown",
   "metadata": {},
   "source": [
    "At M = 0, $t_0 = ln(2)T1$"
   ]
  },
  {
   "cell_type": "markdown",
   "metadata": {},
   "source": [
    "Measured Value of T1 for Mineral Oil: 18 +/- 1 miliseconds"
   ]
  },
  {
   "cell_type": "code",
   "execution_count": 19,
   "metadata": {
    "collapsed": false
   },
   "outputs": [
    {
     "name": "stdout",
     "output_type": "stream",
     "text": [
      "5.3085003361 Volts\n"
     ]
    }
   ],
   "source": [
    "Max = 14.43\n",
    "e_1 = Max/np.e\n",
    "print e_1, 'Volts'"
   ]
  },
  {
   "cell_type": "markdown",
   "metadata": {},
   "source": [
    "Measured $T{_{2}}^*$ for Nail Polish: 148 +/- 5 microseconds\n",
    "\n",
    "Measured $T{_{2}}^*$ for Glycerin: 117 +/- 5 microseconds\n",
    "\n",
    "Measured $T{_{2}}^*$ for Water with CuSO+: 119 +/- 5 microseconds\n",
    "\n",
    "Measured $T{_{2}}^*$ for Soft Plastic: 52  +/- 7 microseconds"
   ]
  },
  {
   "cell_type": "markdown",
   "metadata": {},
   "source": [
    "Measured value of $T_{2}$ for Nail Polish: 28 +/- 2 milliseconds\n",
    "\n",
    "Measured value of $T_{2}$ for Glycerin: 75 +/- 2 milliseconds\n",
    "\n",
    "Measured value of $T_{2}$ for Water with CuSO+: 3 +/- 1 miliseconds\n",
    "\n",
    "Measured value of $T_{2}$ for oft Plastic: 130 +/- 10 microseconds"
   ]
  },
  {
   "cell_type": "markdown",
   "metadata": {},
   "source": [
    "Measured Value of T1 for Nail Polish: 26 +/- 1 milisecond\n",
    "\n",
    "Measured Value of T1 for Glycerin: 32 +/- 1 milisecond\n",
    "\n",
    "Measured Value of T1 for Water with CuSO+: ????\n",
    "\n",
    "Measured Value of T1 for Soft Plastic: ????"
   ]
  },
  {
   "cell_type": "code",
   "execution_count": null,
   "metadata": {
    "collapsed": true
   },
   "outputs": [],
   "source": []
  }
 ],
 "metadata": {
  "kernelspec": {
   "display_name": "Python 2",
   "language": "python",
   "name": "python2"
  },
  "language_info": {
   "codemirror_mode": {
    "name": "ipython",
    "version": 2
   },
   "file_extension": ".py",
   "mimetype": "text/x-python",
   "name": "python",
   "nbconvert_exporter": "python",
   "pygments_lexer": "ipython2",
   "version": "2.7.9"
  }
 },
 "nbformat": 4,
 "nbformat_minor": 0
}
