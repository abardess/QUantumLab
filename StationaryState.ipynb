{
 "metadata": {
  "name": "",
  "signature": "sha256:54bc94e73ae9a8f11cacf906070ce4850e11dcfd6c4d55ba029e3f2c09d716ad"
 },
 "nbformat": 3,
 "nbformat_minor": 0,
 "worksheets": [
  {
   "cells": [
    {
     "cell_type": "code",
     "collapsed": false,
     "input": [
      "%pylab inline\n",
      "import numpy as np\n",
      "import matplotlib.pyplot as plt\n",
      "from random import randint\n",
      "import scipy.optimize as optimization"
     ],
     "language": "python",
     "metadata": {},
     "outputs": [
      {
       "output_type": "stream",
       "stream": "stdout",
       "text": [
        "Populating the interactive namespace from numpy and matplotlib\n"
       ]
      }
     ],
     "prompt_number": 2
    },
    {
     "cell_type": "code",
     "collapsed": false,
     "input": [
      "n = 2\n",
      "i = 1j\n",
      "h_bar = 6.582 * 10**-16 #eV s\n",
      "m = .511 * 10**6 #eV/c^2\n",
      "a = 100\n",
      "E = (h_bar**2)*(n**2)*(np.pi**2)/(2*m*(a**2))\n",
      "\n",
      "omega = E/h_bar\n",
      "\n",
      "\n",
      "rho = lambda t: np.exp(-i*omega*t)\n",
      "\n",
      "phi = lambda x: np.sqrt(2/a)*np.sin((n*np.pi/a)*x)\n",
      "\n",
      "wave = lambda x, t: (np.sqrt(2/a)*np.sin((n*np.pi/a)*x)) * (np.exp(-i*omega*t))"
     ],
     "language": "python",
     "metadata": {},
     "outputs": [],
     "prompt_number": 3
    },
    {
     "cell_type": "code",
     "collapsed": false,
     "input": [
      "x = np.arange(0, a, 1)\n",
      "t = np.arange(0, 100, 1)\n",
      "\n",
      "wave_s = wave(x, t)\n",
      "plt.plot(x, wave_s)\n",
      "plt.show()"
     ],
     "language": "python",
     "metadata": {},
     "outputs": [
      {
       "output_type": "stream",
       "stream": "stderr",
       "text": [
        "/Users/anthonybardessono/anaconda/lib/python2.7/site-packages/numpy/core/numeric.py:460: ComplexWarning: Casting complex values to real discards the imaginary part\n",
        "  return array(a, dtype, copy=False, order=order)\n"
       ]
      },
      {
       "metadata": {},
       "output_type": "display_data",
       "png": "[encoded data removed]",
       "text": [
        "<matplotlib.figure.Figure at 0x1059a7610>"
       ]
      }
     ],
     "prompt_number": 4
    },
    {
     "cell_type": "code",
     "collapsed": false,
     "input": [],
     "language": "python",
     "metadata": {},
     "outputs": []
    }
   ],
   "metadata": {}
  }
 ]
}