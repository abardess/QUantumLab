{
 "metadata": {
  "name": "",
  "signature": "sha256:083ddfcc63faa024bb7b3e2de46d7964ba0bb566f0850349329c0aa9a5974791"
 },
 "nbformat": 3,
 "nbformat_minor": 0,
 "worksheets": [
  {
   "cells": [
    {
     "cell_type": "code",
     "collapsed": false,
     "input": [
      "%pylab inline\n",
      "import numpy as np\n",
      "import matplotlib.pyplot as plt\n",
      "from random import randint\n",
      "import scipy.optimize as optimization"
     ],
     "language": "python",
     "metadata": {},
     "outputs": [
      {
       "output_type": "stream",
       "stream": "stdout",
       "text": [
        "Populating the interactive namespace from numpy and matplotlib\n"
       ]
      }
     ],
     "prompt_number": 1
    },
    {
     "cell_type": "code",
     "collapsed": false,
     "input": [
      "volume_of_sphere_liquid = .13 #mL"
     ],
     "language": "python",
     "metadata": {},
     "outputs": [],
     "prompt_number": 2
    },
    {
     "cell_type": "code",
     "collapsed": false,
     "input": [
      "print (.8*10/8) * 20 #mL\n",
      "print (.2/1.26 *10/8) * 20 #mL"
     ],
     "language": "python",
     "metadata": {},
     "outputs": [
      {
       "output_type": "stream",
       "stream": "stdout",
       "text": [
        "20.0\n",
        "3.96825396825\n"
       ]
      }
     ],
     "prompt_number": 10
    },
    {
     "cell_type": "code",
     "collapsed": false,
     "input": [
      "#1.15 mu m poly\n",
      "\n",
      "D = 3.3218 * 10**-13\n",
      "nu = 8.94*10**-4\n",
      "T = 293 #K\n",
      "k = 1.38 * 10 **-23 # J/K\n",
      "\n",
      "r = (k * T)/(62 * np.pi *nu * D)\n",
      "r = 7.2234 * 10**-7 # m "
     ],
     "language": "python",
     "metadata": {},
     "outputs": [],
     "prompt_number": 18
    },
    {
     "cell_type": "code",
     "collapsed": false,
     "input": [
      "# .11 mu m poly\n",
      "\n",
      "D2 = 2.6674 * 10**-12 \n",
      "\n",
      "r = (k * T)/(6 * np.pi *nu * D2)\n",
      "r = 8.9954 * 10**-8"
     ],
     "language": "python",
     "metadata": {},
     "outputs": [],
     "prompt_number": 19
    },
    {
     "cell_type": "code",
     "collapsed": false,
     "input": [
      "#1.15 mu m poly\n",
      "#glycerol solution\n",
      "index = 1.357\n",
      "nu = 1.55 * 10**-3\n",
      "\n",
      "D3 = 1.6518 * 10**-12\n",
      "r = 8.3781 * 10*-8"
     ],
     "language": "python",
     "metadata": {},
     "outputs": [],
     "prompt_number": 20
    },
    {
     "cell_type": "code",
     "collapsed": false,
     "input": [
      "# .11 mu m poly\n",
      "#glycerol solution\n",
      "\n",
      "\n",
      "D4 = 2.1848 * 10*-13\n",
      "r = 6.3344 * 10**-7"
     ],
     "language": "python",
     "metadata": {},
     "outputs": [],
     "prompt_number": 21
    },
    {
     "cell_type": "code",
     "collapsed": false,
     "input": [
      "print .841 * .7\n",
      "print .841 * .8"
     ],
     "language": "python",
     "metadata": {},
     "outputs": [
      {
       "output_type": "stream",
       "stream": "stdout",
       "text": [
        "0.5887\n",
        "0.6728\n"
       ]
      }
     ],
     "prompt_number": 24
    },
    {
     "cell_type": "code",
     "collapsed": false,
     "input": [],
     "language": "python",
     "metadata": {},
     "outputs": []
    }
   ],
   "metadata": {}
  }
 ]
}