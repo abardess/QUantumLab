{
 "metadata": {
  "name": "",
  "signature": "sha256:0bbcedf3c00eae7878f22a2c05d044deae09d12dff3c17c77713afe1f0b43269"
 },
 "nbformat": 3,
 "nbformat_minor": 0,
 "worksheets": [
  {
   "cells": [
    {
     "cell_type": "code",
     "collapsed": false,
     "input": [
      "%pylab inline\n",
      "import numpy as np"
     ],
     "language": "python",
     "metadata": {},
     "outputs": [
      {
       "output_type": "stream",
       "stream": "stdout",
       "text": [
        "Populating the interactive namespace from numpy and matplotlib\n"
       ]
      }
     ],
     "prompt_number": 1
    },
    {
     "cell_type": "code",
     "collapsed": false,
     "input": [
      "V = [1000, 1500, 2000, 2500, 3000] #voltages used\n",
      "D = .223 #dimeter of coils in meters\n",
      "r = [.4261, .2768, .2736, .2926, .3167] #radii of electon path at each voltage\n",
      "rneg = [.2157, .2451, .2609, .2701, .2561]\n",
      "u = 4 * np.pi * 10**(0-7) #N/(A^2)\n",
      "N = 131 #number of turns in the coils\n",
      "I = [.368, .446, .507, .564, .618] #Current\n",
      "\n",
      "Blist = []\n",
      "emlist = []\n",
      "emneglist = []\n",
      "y = 0\n",
      "for x in V:\n",
      "    B = (16 * u * N * I[y]) / (sqrt(125) * D)\n",
      "    em = (2 * x) / ((B**2)*(r[y]**2))\n",
      "    emneg = (2 * x) / ((B**2)*(rneg[y]**2))\n",
      "    Blist.append(B/(10**10))\n",
      "    emlist.append(em/(10**10))\n",
      "    emneglist.append(emneg/10**10)\n",
      "    y = y + 1\n",
      "print emlist\n",
      "print emneglist\n",
      "ave = 0\n",
      "for i in emlist:\n",
      "    ave += i\n",
      "for i in emneglist:\n",
      "    ave += i\n",
      "ave = (ave - emlist[0]) / 9\n",
      "print ave"
     ],
     "language": "python",
     "metadata": {},
     "outputs": [
      {
       "output_type": "stream",
       "stream": "stdout",
       "text": [
        "[7.2883420162088717, 17.637491609608766, 18.626417835522602, 16.450556996218207, 14.034457441728494]\n",
        "[28.441436165864264, 22.494812068363512, 20.483934049339215, 19.305456808988879, 21.462118958217733]\n",
        "19.8818535482\n"
       ]
      }
     ],
     "prompt_number": 2
    },
    {
     "cell_type": "code",
     "collapsed": false,
     "input": [
      "deltalist = []\n",
      "for i in emlist:\n",
      "    y = 0\n",
      "    delta = i*sqrt((10/V[y])+(4*(.005/I[y])**2)+(4*(.001/r[y])**2)+4*(.001/D)**2)\n",
      "    deltalist.append(delta)\n",
      "    y += 1\n",
      "for i in emneglist:\n",
      "    y = 0\n",
      "    delta = i*sqrt((10/V[y])+(4*(.005/I[y])**2)+(4*(.001/rneg[y])**2)+4*(.001/D)**2)\n",
      "    deltalist.append(delta)\n",
      "    y += 1\n",
      "print deltalist\n",
      "ave = 0\n",
      "for i in deltalist:\n",
      "    ave = i + ave\n",
      "ave = (ave - deltalist[0]) / 9\n",
      "print ave"
     ],
     "language": "python",
     "metadata": {},
     "outputs": [
      {
       "output_type": "stream",
       "stream": "stdout",
       "text": [
        "[0.21134792572368538, 0.5114533948008525, 0.54013035673208742, 0.47703456978525244, 0.40697232132768946, 0.85552957676129782, 0.67665278700904741, 0.61616478596361302, 0.58071572745686206, 0.64558897242897662]\n",
        "0.590026943585\n"
       ]
      }
     ],
     "prompt_number": 4
    },
    {
     "cell_type": "code",
     "collapsed": false,
     "input": [
      "x = - (emlist[0] - 19.888)**2\n",
      "for i in emlist:\n",
      "    x = x + (i - 19.88)**2\n",
      "rho = sqrt((1.0 / 8.0) * (x))\n",
      "print rho"
     ],
     "language": "python",
     "metadata": {},
     "outputs": [
      {
       "output_type": "stream",
       "stream": "stdout",
       "text": [
        "2.55759234225\n"
       ]
      }
     ],
     "prompt_number": 5
    }
   ],
   "metadata": {}
  }
 ]
}