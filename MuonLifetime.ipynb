{
 "cells": [
  {
   "cell_type": "code",
   "execution_count": null,
   "metadata": {
    "collapsed": false
   },
   "outputs": [],
   "source": [
    "%pylab inline\n",
    "import numpy as np\n",
    "import matplotlib.pyplot as plt\n",
    "from random import randint\n",
    "from numpy import genfromtxt\n",
    "import scipy.optimize as optimization\n",
    "from scipy.optimize import curve_fit"
   ]
  },
  {
   "cell_type": "markdown",
   "metadata": {},
   "source": [
    "TAC calibration: 192 = 3.82 118 = 2.22"
   ]
  },
  {
   "cell_type": "code",
   "execution_count": null,
   "metadata": {
    "collapsed": false
   },
   "outputs": [],
   "source": [
    "74/1.6"
   ]
  },
  {
   "cell_type": "code",
   "execution_count": null,
   "metadata": {
    "collapsed": false
   },
   "outputs": [],
   "source": [
    "f = genfromtxt(\"muon_data_14May2015.mca\", delimiter=',')\n",
    "x = np.arange(0, len(f))\n",
    "\n",
    "plt.plot(x, f, 'o', markersize = 1)\n",
    "plt.title('mca data')\n",
    "plt.xlabel('channel')\n",
    "plt.ylabel('counts')\n",
    "\n",
    "\n",
    "plt.show()"
   ]
  },
  {
   "cell_type": "code",
   "execution_count": null,
   "metadata": {
    "collapsed": false
   },
   "outputs": [],
   "source": [
    "t = x/46.25\n",
    "\n",
    "plt.plot(t, f, 'o', markersize = 1)\n",
    "plt.title('mca data')\n",
    "plt.xlabel('time (microseconds)')\n",
    "plt.ylabel('counts')\n",
    "\n",
    "\n",
    "plt.show()"
   ]
  },
  {
   "cell_type": "code",
   "execution_count": 22,
   "metadata": {
    "collapsed": false
   },
   "outputs": [
    {
     "name": "stdout",
     "output_type": "stream",
     "text": [
      "[  0.   0.   0.   0.   0.   0.   0.   0.   0.   0.   7.  12.  14.  10.  14.\n",
      "  17.  12.  13.  10.  13.  13.  16.   9.  16.  20.  14.  19.  22.  15.   8.\n",
      "  16.  13.  22.  14.  13.   7.  10.  19.   7.  13.  12.  17.  15.  14.  13.\n",
      "  11.  17.  12.   9.   9.  12.  14.   8.  12.   6.  11.   7.  10.   9.  11.\n",
      "  12.  10.  16.  13.   9.  10.  14.   8.  10.  13.  10.  12.   6.  13.  12.\n",
      "   9.  16.   9.  12.  11.  18.   8.   7.   7.  13.  11.   9.   9.  11.  15.\n",
      "  10.  11.   7.  11.  11.   8.  11.   8.  13.  11.   7.   7.   9.   3.   6.\n",
      "   7.   6.   9.   4.   5.  10.   8.   5.   8.   6.   7.  10.  10.   6.   4.\n",
      "  16.   9.   4.   6.   6.   9.   7.   6.   7.   5.   3.   7.   5.   3.   8.\n",
      "   7.   6.   9.   6.   2.   9.   5.   5.   5.   7.   2.   5.   6.   8.   3.\n",
      "   5.   7.   7.   7.   3.   3.   3.   7.   5.   4.   8.   5.   3.   3.   3.\n",
      "   8.   4.   2.   6.   5.   3.   4.   6.   2.   3.   3.   6.   6.   3.   2.\n",
      "   4.   4.   3.   4.   5.   4.   3.   5.   1.   3.   4.   5.   2.   3.   1.\n",
      "   2.   4.   2.   2.   6.   2.   2.   1.   0.   2.   4.   3.   3.   2.   3.\n",
      "   2.   1.   0.   1.   1.   3.   2.   3.   2.   3.   3.   2.   1.   2.   1.\n",
      "   7.   2.   1.   2.   5.   5.   2.   5.   2.   2.   1.   1.   3.   1.   2.\n",
      "   2.   3.   2.   1.   0.   3.   1.   2.   5.   1.   2.   3.   1.   4.   0.\n",
      "   1.   2.   2.   3.   3.   2.   3.   0.   2.   3.   1.   2.   0.   0.   2.\n",
      "   0.   0.   0.   4.   0.   0.   1.   1.   1.   1.   3.   1.   1.   1.   0.\n",
      "   2.   0.   0.   0.   0.   0.   0.   2.   1.   3.   1.   1.   0.   0.   1.\n",
      "   1.   1.   1.   3.   0.   2.   0.   1.   0.   4.   2.   2.   1.   0.   2.\n",
      "   0.   0.   1.   0.   0.   2.   2.   1.   1.   1.   2.   2.   0.   1.   1.\n",
      "   0.   0.   0.   3.   0.   3.   1.   0.   1.   3.   1.   0.   0.   0.   1.\n",
      "   3.   0.   1.   1.   1.   1.   3.   0.   1.   0.   0.   0.   1.   0.   0.\n",
      "   1.   0.   1.   0.   1.   0.   0.   0.   1.   1.   1.   0.   1.   1.   1.\n",
      "   1.   0.   1.   0.   1.   0.   3.   0.   1.   0.   0.   0.   2.   1.   1.\n",
      "   0.   1.   0.   1.   0.   1.   2.   0.   0.   0.   2.   1.   0.   3.   4.\n",
      "   0.   2.   0.   1.   0.   0.   0.   0.   0.   0.   1.   1.   0.   1.   0.\n",
      "   1.   1.   3.   1.   1.   1.   1.   1.   0.   0.   0.   1.   1.   1.   0.\n",
      "   1.   0.   2.   1.   1.   1.   2.   0.   2.   0.   0.   0.   0.   0.   2.\n",
      "   0.   2.   0.   0.   1.   0.   0.   0.   0.   0.   0.   0.   0.   0.   1.\n",
      "   1.   1.   1.   0.   0.   2.   1.   0.   0.   0.   0.   0.   0.   0.   0.\n",
      "   2.   0.   0.   0.   0.   0.   1.   0.   0.   0.   0.   0.   0.   2.   1.\n",
      "   1.   0.   0.   0.   0.   0.   0.   0.   0.   0.   0.   0.   0.   0.   0.\n",
      "   0.   0.]\n"
     ]
    }
   ],
   "source": [
    "print f[12: -44]"
   ]
  },
  {
   "cell_type": "code",
   "execution_count": null,
   "metadata": {
    "collapsed": false
   },
   "outputs": [],
   "source": [
    "s = 12\n",
    "fin = 44\n",
    "\n",
    "def exponential(t, *p):\n",
    "    off, N0, tau = p\n",
    "    return off + N0*numpy.exp(-t/tau)\n",
    "\n",
    "p0 = [1.0, 25.0, 1.0]\n",
    "\n",
    "a, b = curve_fit(exponential, t[s:fin], f[s:fin], p0)\n",
    "off= a[0]\n",
    "N0 = a[1]\n",
    "tau = a[2]\n",
    "print off, N0, tau\n",
    "\n",
    "fit = lambda t: off + N0*numpy.exp(-t/tau)\n",
    "\n",
    "plt.plot(t[s:fin], f[s:fin], 'bo', markersize = 1)\n",
    "plt.plot(t[s:fin], fit(t[s:fin]), 'r')\n",
    "plt.show()"
   ]
  },
  {
   "cell_type": "code",
   "execution_count": null,
   "metadata": {
    "collapsed": true
   },
   "outputs": [],
   "source": []
  }
 ],
 "metadata": {
  "kernelspec": {
   "display_name": "Python 2",
   "language": "python",
   "name": "python2"
  },
  "language_info": {
   "codemirror_mode": {
    "name": "ipython",
    "version": 2
   },
   "file_extension": ".py",
   "mimetype": "text/x-python",
   "name": "python",
   "nbconvert_exporter": "python",
   "pygments_lexer": "ipython2",
   "version": "2.7.9"
  }
 },
 "nbformat": 4,
 "nbformat_minor": 0
}
