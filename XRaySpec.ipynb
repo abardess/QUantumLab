{
 "metadata": {
  "name": "",
  "signature": "sha256:555836327e07b87c40e3e5f2390349cf8155e356f3d7d2f6c3676ef1caac6efa"
 },
 "nbformat": 3,
 "nbformat_minor": 0,
 "worksheets": [
  {
   "cells": [
    {
     "cell_type": "code",
     "collapsed": false,
     "input": [
      "%pylab inline\n",
      "import numpy as np\n",
      "import matplotlib.pyplot as plt\n",
      "from random import randint\n",
      "import scipy.optimize as optimization"
     ],
     "language": "python",
     "metadata": {},
     "outputs": [
      {
       "output_type": "stream",
       "stream": "stdout",
       "text": [
        "Populating the interactive namespace from numpy and matplotlib\n"
       ]
      }
     ],
     "prompt_number": 1
    },
    {
     "cell_type": "code",
     "collapsed": false,
     "input": [
      "Fe_K_alpha_channel = 49.73\n",
      "Fe_K_beta_channel = 54.74\n",
      "Fe_K_alpha_FWHM = 2.002\n",
      "Fe_K_alpha_energy = 6.40 #keV\n",
      "Fe_K_beta_energy = 7.06 #keV"
     ],
     "language": "python",
     "metadata": {},
     "outputs": [],
     "prompt_number": 2
    },
    {
     "cell_type": "code",
     "collapsed": false,
     "input": [
      "err = (0.66 / 5.01) * 2.002"
     ],
     "language": "python",
     "metadata": {},
     "outputs": [],
     "prompt_number": 3
    },
    {
     "cell_type": "code",
     "collapsed": false,
     "input": [
      "print \"Measured Resolution:\", err, \"keV\""
     ],
     "language": "python",
     "metadata": {},
     "outputs": [
      {
       "output_type": "stream",
       "stream": "stdout",
       "text": [
        "Measured Resolution: 0.263736526946 keV\n"
       ]
      }
     ],
     "prompt_number": 4
    },
    {
     "cell_type": "code",
     "collapsed": false,
     "input": [
      "#Fe, Ni, Cu, Zr, Sn\n",
      "c_alpha = [49.73, 58.02, 62.54, 122.08, 196.1] #Channel Number\n",
      "c_beta = [54.74, 64.25, 69.22, 137.8, 221.7] #Channel Number\n",
      "\n",
      "E_alpha = [6.40, 7.48, 8.05, 15.78, 25.27] #keV\n",
      "E_beta = [7.06, 8.26, 8.91, 17.67, 28.49] #keV\n",
      "\n",
      "m1, b1 = pylab.polyfit(c_alpha, E_alpha, 1)\n",
      "m2, b2 = pylab.polyfit(c_beta, E_beta, 1)\n",
      "\n",
      "x = np.arange(0, 512, 1)\n",
      "alpha_fit = []\n",
      "beta_fit = []\n",
      "for i in range(512):\n",
      "    alpha_fit.append(b1 + m1*i)\n",
      "    beta_fit.append(b2 + m2*i)\n",
      "\n",
      "plt.plot(c_alpha, E_alpha, 'or')\n",
      "plt.plot(c_beta, E_beta, '^')\n",
      "#plt.plot(alpha_fit, x, 'g')\n",
      "#plt.plot(beta_fit, x, 'g')\n",
      "plt.show()\n",
      "print \"Slopes:\", m1, m2\n",
      "print \"Intercepts:\", b1, b2"
     ],
     "language": "python",
     "metadata": {},
     "outputs": [
      {
       "metadata": {},
       "output_type": "display_data",
       "png": "[encoded data removed]",
       "text": [
        "<matplotlib.figure.Figure at 0x10275b2d0>"
       ]
      },
      {
       "output_type": "stream",
       "stream": "stdout",
       "text": [
        "Slopes: 0.128977617967 0.128345964491\n",
        "Intercepts: -0.00433940963915 0.0187263576988\n"
       ]
      }
     ],
     "prompt_number": 5
    },
    {
     "cell_type": "code",
     "collapsed": false,
     "input": [
      "m1 *135.31 + b1"
     ],
     "language": "python",
     "metadata": {},
     "outputs": [
      {
       "metadata": {},
       "output_type": "pyout",
       "prompt_number": 6,
       "text": [
        "17.44762207743554"
       ]
      }
     ],
     "prompt_number": 6
    },
    {
     "cell_type": "code",
     "collapsed": false,
     "input": [
      "m2 *152.89 + b2"
     ],
     "language": "python",
     "metadata": {},
     "outputs": [
      {
       "metadata": {},
       "output_type": "pyout",
       "prompt_number": 7,
       "text": [
        "19.641540868766985"
       ]
      }
     ],
     "prompt_number": 7
    },
    {
     "cell_type": "code",
     "collapsed": false,
     "input": [
      "#Fe, Ni, Cu, Zr, Mo, Rh, Sn\n",
      "c_alpha2 = [49.73, 58.02, 62.54, 122.08, 135.31, 157.0, 196.1] #Channel Number\n",
      "c_beta2 = [54.74, 64.25, 69.22, 137.8, 152.89, 176.6, 221.7] #Channel Number\n",
      "\n",
      "E_alpha2 = [6.40, 7.48, 8.05, 15.78, 17.48, 20.22, 25.27] #keV\n",
      "E_beta2 = [7.06, 8.26, 8.91, 17.67, 19.61, 22.72, 28.49] #keV\n",
      "\n",
      "m1_2, b1_2 = pylab.polyfit(c_alpha2, E_alpha2, 1)\n",
      "m2_2, b2_2 = pylab.polyfit(c_beta2, E_beta2, 1)\n",
      "plt.plot(c_alpha2, E_alpha2, 'or')\n",
      "plt.plot(c_beta2, E_beta2, '^')\n",
      "plt.show()\n",
      "print \"Slopes:\", m1_2, m2_2\n",
      "print \"Intercepts:\", b1_2, b2_2"
     ],
     "language": "python",
     "metadata": {},
     "outputs": [
      {
       "metadata": {},
       "output_type": "display_data",
       "png": "[encoded data removed]",
       "text": [
        "<matplotlib.figure.Figure at 0x105983cd0>"
       ]
      },
      {
       "output_type": "stream",
       "stream": "stdout",
       "text": [
        "Slopes: 0.128957936098 0.128384215888\n",
        "Intercepts: -0.00111104948402 0.0144808318507\n"
       ]
      }
     ],
     "prompt_number": 8
    },
    {
     "cell_type": "code",
     "collapsed": false,
     "input": [
      "c = [49.73, 54.74, 58.02, 62.54, 64.25, 69.22, 122.08, 135.31, 137.8, 152.89, 157.0, 176.6, 196.1, 221.7] #Channel Number\n",
      "E = [6.40, 7.06, 7.48, 8.05, 8.26, 8.91, 15.78, 17.48, 17.67, 19.61, 20.22, 22.72, 25.27, 28.49] #keV\n",
      "\n",
      "mU, bU = pylab.polyfit(c, E, 1)\n",
      "\n",
      "Eerr = []\n",
      "for i in E:\n",
      "    Eerr.append(err * i)\n",
      "    \n",
      "m, b = pylab.polyfit(c, E, 1, w = [1.0 / ty for ty in Eerr], full=False)\n",
      "    \n",
      "plt.errorbar(c, E, yerr = Eerr, fmt = 'ro', ecolor = 'b')\n",
      "plt.xlabel('Channel Number')\n",
      "plt.ylabel('Energy (keV)')\n",
      "\n",
      "plt.show()\n",
      "print \"slope:\", m\n",
      "print \"intercept:\", b"
     ],
     "language": "python",
     "metadata": {},
     "outputs": [
      {
       "metadata": {},
       "output_type": "display_data",
       "png": "[encoded data removed]",
       "text": [
        "<matplotlib.figure.Figure at 0x105b04cd0>"
       ]
      },
      {
       "output_type": "stream",
       "stream": "stdout",
       "text": [
        "slope: 0.128645774251\n",
        "intercept: 0.00836413798232\n"
       ]
      }
     ],
     "prompt_number": 9
    },
    {
     "cell_type": "code",
     "collapsed": false,
     "input": [
      "m*383.94 + b"
     ],
     "language": "python",
     "metadata": {},
     "outputs": [
      {
       "metadata": {},
       "output_type": "pyout",
       "prompt_number": 10,
       "text": [
        "49.400622703838351"
       ]
      }
     ],
     "prompt_number": 10
    },
    {
     "cell_type": "code",
     "collapsed": false,
     "input": [
      "Sn = [196.05, 221.89, 226.8] #K_alpha, K_beta_1, K_beta_2\n",
      "Pb = [71.58, 82.08, 98.08, 115.36] #L_L, L_alpha_1, L_Beta_1, L_gamma_1\n",
      "\n",
      "Brass = [62.55, 67.50, 74.55] #Channels\n",
      "Steel = [49.77, 54.9]\n",
      "SSteel = [49.65, 54.67, 58.26] #Channels\n",
      "GalSteel = [42.16, 49.76, 54.43, 67.09, 74.36] #Channel\n",
      "\n",
      "K1 = [75.45, 89.25, 66.69, 81.77, 98.15, 104.60, 131.96] #unknown 1\n",
      "K2 = [82.04, 98.13, 131.57, 172.13, 194.35] #unknown 2\n",
      "\n",
      "Sample1 = [49.67, 58.14, 63.83, 104.04, 123.14, 130.90, 249.57] #Red Rock\n",
      "Sample2 = [49.58, 58.18, 64.03, 124.03, 131.94, 138.25, 250.01, 109.43] #Small Rock\n",
      "Sample3 = [58.14, 64.19, 108.68, 123.83, 131.57, 138.26, 251.61] #Black Rock\n",
      "\n",
      "Mystery_Peak = 383.94 #????"
     ],
     "language": "python",
     "metadata": {},
     "outputs": [],
     "prompt_number": 11
    },
    {
     "cell_type": "code",
     "collapsed": false,
     "input": [
      "def convert(Channels):\n",
      "    Energies = []\n",
      "    for i in Channels:\n",
      "        Energies.append(m*i + b)\n",
      "    return Energies"
     ],
     "language": "python",
     "metadata": {},
     "outputs": [],
     "prompt_number": 12
    },
    {
     "cell_type": "code",
     "collapsed": false,
     "input": [
      "Sn_E = convert(Sn)\n",
      "Pb_E = convert(Pb)\n",
      "\n",
      "print Sn_E\n",
      "print Pb_E"
     ],
     "language": "python",
     "metadata": {},
     "outputs": [
      {
       "output_type": "stream",
       "stream": "stdout",
       "text": [
        "[25.229368179853644, 28.553574986494574, 29.185225738066055]\n",
        "[9.2168286588553077, 10.567609288488812, 12.625941676501775, 14.848940655555774]\n"
       ]
      }
     ],
     "prompt_number": 13
    },
    {
     "cell_type": "code",
     "collapsed": false,
     "input": [
      "Brass_E = convert(Brass)\n",
      "Steel_E = convert(Steel)\n",
      "SSteel_E = convert(SSteel)\n",
      "GalSteel_E = convert(GalSteel)\n",
      "\n",
      "print Brass_E, \"Copper and Zinc\"\n",
      "print Steel_E, \"Iron and Carbon\"\n",
      "print SSteel_E, \"Steel and Cromium\"\n",
      "print GalSteel_E, \"SSteel and Zinc\""
     ],
     "language": "python",
     "metadata": {},
     "outputs": [
      {
       "output_type": "stream",
       "stream": "stdout",
       "text": [
        "[8.055157317370492, 8.6919538999120025, 9.5989066083802133] Copper and Zinc\n",
        "[6.4110643224451387, 7.071017144351794] Iron and Carbon\n",
        "[6.3956268295350407, 7.041428616274108, 7.5032669458345165] Steel and Cromium\n",
        "[5.4320699803964727, 6.4097778647026304, 7.0105536304539138, 8.6392091324691709, 9.5744639112725594] SSteel and Zinc\n"
       ]
      }
     ],
     "prompt_number": 14
    },
    {
     "cell_type": "code",
     "collapsed": false,
     "input": [
      "K1_E = convert(K1)\n",
      "K2_E = convert(K2)\n",
      "print K1_E\n",
      "print K2_E"
     ],
     "language": "python",
     "metadata": {},
     "outputs": [
      {
       "output_type": "stream",
       "stream": "stdout",
       "text": [
        "[9.7146878052059424, 11.489999489867122, 8.5877508227688448, 10.527729098471061, 12.634946880699333, 13.464712124617057, 16.984460508119223]\n",
        "[10.562463457518781, 12.632373965214315, 16.934288656161407, 22.152161259774264, 25.010670363627263]\n"
       ]
      }
     ],
     "prompt_number": 15
    },
    {
     "cell_type": "code",
     "collapsed": false,
     "input": [
      "K1_Guess = ['Gold']\n",
      "#Gold from L transitions\n",
      "\n",
      "K2_Guess = ['Silver']\n",
      "Silver = [22.1, 24.9] #keV"
     ],
     "language": "python",
     "metadata": {},
     "outputs": [],
     "prompt_number": 16
    },
    {
     "cell_type": "code",
     "collapsed": false,
     "input": [
      "Sample1_E = convert(Sample1)\n",
      "Sample2_E = convert(Sample2)\n",
      "Sample3_E = convert(Sample3)\n",
      "\n",
      "print Sample1_E\n",
      "print Sample2_E\n",
      "print Sample3_E"
     ],
     "language": "python",
     "metadata": {},
     "outputs": [
      {
       "output_type": "stream",
       "stream": "stdout",
       "text": [
        "[6.3981997450200581, 7.4878294529244194, 8.219823908411529, 13.392670491036604, 15.849804779227076, 16.848095987413362, 32.114490017756999]\n",
        "[6.3866216253374848, 7.4929752838944514, 8.2455530632616902, 15.964299518310298, 16.981887592634205, 17.793642428156819, 32.171094158427351, 14.08607121424847]\n",
        "[7.4878294529244194, 8.2661363871418203, 13.989586883560364, 15.938570363460135, 16.934288656161407, 17.794928885899324, 32.376927397228656]\n"
       ]
      }
     ],
     "prompt_number": 17
    },
    {
     "cell_type": "code",
     "collapsed": false,
     "input": [
      "print [6.4, 7.5, 8.2, 15.9, 16.9, 32.1] #common to all three\n",
      "#Iron, Nickle, Nickle, Sr/Zr, Yttrium, Barium\n",
      "print [17.8, 14.0] #common to two\n",
      "#Zr"
     ],
     "language": "python",
     "metadata": {},
     "outputs": [
      {
       "output_type": "stream",
       "stream": "stdout",
       "text": [
        "[6.4, 7.5, 8.2, 15.9, 16.9, 32.1]\n",
        "[17.8, 14.0]\n"
       ]
      }
     ],
     "prompt_number": 18
    },
    {
     "cell_type": "code",
     "collapsed": false,
     "input": [
      "#E^(1/2) = CZ - S\n",
      "#Fe, Ni, Cu, Zr, Mo, Rh, Sn\n",
      "Z_alpha = [26, 28, 29, 40, 42, 45, 50]\n",
      "\n",
      "EerrA_2 = []\n",
      "for i in E_alpha2:\n",
      "    EerrA_2.append(np.sqrt(err * i))\n",
      "\n",
      "    \n",
      "    \n",
      "emx = []\n",
      "e = []\n",
      "emn = []\n",
      "for i in range(len(E_alpha2)):\n",
      "    emx.append(np.sqrt(E_alpha2[i]) + EerrA_2[i])\n",
      "    e.append(np.sqrt(E_alpha2[i]))\n",
      "    emn.append(np.sqrt(E_alpha2[i]) - EerrA_2[i])\n",
      "    \n",
      "    \n",
      "\n",
      "\n",
      "Cmx, SCmx = pylab.polyfit(Z_alpha, emx, 1)\n",
      "C, SC = pylab.polyfit(Z_alpha, e, 1)  \n",
      "Cmn, SCmn = pylab.polyfit(Z_alpha, emn, 1)\n",
      "\n",
      "\n",
      "\n",
      "\n",
      "fitmx = []\n",
      "fit = []\n",
      "fitmn = []\n",
      "for i in Z_alpha:\n",
      "    fitmx.append(Cmx*i - SCmx)\n",
      "    fit.append(C*i - SC)\n",
      "    fitmn.append(Cmn*i - SCmn)\n",
      "\n",
      "plt.errorbar(Z_alpha, e, yerr = EerrA_2, fmt = 'b^', ecolor = 'g')\n",
      "plt.plot(Z_alpha, fitmx, '--r')\n",
      "plt.plot(Z_alpha, fit, '--b')\n",
      "plt.plot(Z_alpha, fitmn, '--r')\n",
      "plt.ylim(0, 8.5)\n",
      "plt.xlim(25, 51)\n",
      "plt.xlabel('Atomic Number (Z)') \n",
      "plt.ylabel(r'Root of Energy ($keV^{1/2}$)')\n",
      "\n",
      "plt.show()\n",
      "    \n",
      "print \"SC:\", -SC/C, \"between\", -SCmx/C, \"and\", -SCmn/C\n",
      "print \"C:\", C, \"between\", Cmx, \"and\", Cmn"
     ],
     "language": "python",
     "metadata": {},
     "outputs": [
      {
       "metadata": {},
       "output_type": "display_data",
       "png": "[encoded data removed]",
       "text": [
        "<matplotlib.figure.Figure at 0x105997950>"
       ]
      },
      {
       "output_type": "stream",
       "stream": "stdout",
       "text": [
        "SC: 1.67116185874 between 2.52939178955 and 0.812931927922\n",
        "C: 0.103820966899 between 0.157138520057 and 0.0505034137411\n"
       ]
      }
     ],
     "prompt_number": 42
    },
    {
     "cell_type": "code",
     "collapsed": false,
     "input": [],
     "language": "python",
     "metadata": {},
     "outputs": []
    }
   ],
   "metadata": {}
  }
 ]
}